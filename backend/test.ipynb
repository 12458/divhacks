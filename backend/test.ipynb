{
 "cells": [
  {
   "cell_type": "code",
   "execution_count": 2,
   "metadata": {},
   "outputs": [],
   "source": [
    "import os\n",
    "import logging\n",
    "import time\n",
    "import json\n",
    "from typing import Any\n",
    "import google.generativeai as genai\n",
    "genai.configure(api_key=os.environ[\"GEMINI_API_KEY\"])"
   ]
  },
  {
   "cell_type": "code",
   "execution_count": 5,
   "metadata": {},
   "outputs": [],
   "source": [
    "import typing_extensions as typing2\n",
    "\n",
    "class VideoResponse(typing2.TypedDict):\n",
    "    location: str\n",
    "    video_description: str\n",
    "    mood_of_video: list[str]"
   ]
  },
  {
   "cell_type": "code",
   "execution_count": 3,
   "metadata": {},
   "outputs": [],
   "source": [
    "def process_video(video_path: str) -> Any:\n",
    "    video_file = genai.upload_file(path=video_path)\n",
    "\n",
    "    while video_file.state.name == \"PROCESSING\":\n",
    "        logging.debug(\"Waiting for video to be processed.\")\n",
    "        time.sleep(10)\n",
    "        video_file = genai.get_file(video_file.name)\n",
    "\n",
    "    if video_file.state.name == \"FAILED\":\n",
    "        raise ValueError(video_file.state.name)\n",
    "\n",
    "    model = genai.GenerativeModel(\"gemini-1.5-flash\")\n",
    "    prompt = \"Generate a description of the video, its mood and where the video takes place to your best guess.\"\n",
    "    logging.debug(f\"Generating description for video: {video_file.name}\")\n",
    "    result = model.generate_content(\n",
    "        [prompt, video_file],\n",
    "        generation_config=genai.GenerationConfig(\n",
    "            response_mime_type=\"application/json\", response_schema=VideoResponse\n",
    "        ),\n",
    "        request_options={\"timeout\": 600},\n",
    "    )\n",
    "    genai.delete_file(video_file.name)\n",
    "    return json.loads(result.text)"
   ]
  },
  {
   "cell_type": "code",
   "execution_count": 6,
   "metadata": {},
   "outputs": [
    {
     "data": {
      "text/plain": [
       "'{\"location\": \"A sandy shore next to a still, reflective lake.\", \"mood_of_video\": [\"Calm\", \"Peaceful\"], \"video_description\": \"A dog walks along the edge of a still, reflective lake on a bright, sunny day.\"}\\n'"
      ]
     },
     "execution_count": 6,
     "metadata": {},
     "output_type": "execute_result"
    }
   ],
   "source": [
    "process_video(\"test_video_22s.mp4\")"
   ]
  }
 ],
 "metadata": {
  "kernelspec": {
   "display_name": ".venv",
   "language": "python",
   "name": "python3"
  },
  "language_info": {
   "codemirror_mode": {
    "name": "ipython",
    "version": 3
   },
   "file_extension": ".py",
   "mimetype": "text/x-python",
   "name": "python",
   "nbconvert_exporter": "python",
   "pygments_lexer": "ipython3",
   "version": "3.12.6"
  }
 },
 "nbformat": 4,
 "nbformat_minor": 2
}
